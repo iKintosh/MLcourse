{
  "cells":[
    {
      "cell_type":"markdown",
      "source":[
        
      ],
      "metadata":{
        
      }
    },
    {
      "cell_type":"markdown",
      "source":[
        "# <center>Assignment #2 (demo)\n",
        "## <center>Analyzing cardiovascular disease data "
      ],
      "metadata":{
        
      }
    },
    {
      "cell_type":"markdown",
      "source":[
        "In this assignment, you will answer questions about a dataset on cardiovascular disease. You do not need to download the data: it is already in the repository. There are some Tasks that will require you to write code. Complete them and then answer the questions in the [form](https:\/\/docs.google.com\/forms\/d\/13cE_tSIb6hsScQvvWUJeu1MEHE5L6vnxQUbDYpXsf24). \n",
        "\n",
        "#### Problem\n",
        "\n",
        "Predict the presence or absence of cardiovascular disease (CVD) using the patient examination results.\n",
        "\n",
        "#### Data description\n",
        "\n",
        "There are 3 types of input features:\n",
        "\n",
        "- *Objective*: factual information;\n",
        "- *Examination*: results of medical examination;\n",
        "- *Subjective*: information given by the patient.\n",
        "\n",
        "| Feature | Variable Type | Variable      | Value Type |\n",
        "|---------|--------------|---------------|------------|\n",
        "| Age | Objective Feature | age | int (days) |\n",
        "| Height | Objective Feature | height | int (cm) |\n",
        "| Weight | Objective Feature | weight | float (kg) |\n",
        "| Gender | Objective Feature | gender | categorical code |\n",
        "| Systolic blood pressure | Examination Feature | ap_hi | int |\n",
        "| Diastolic blood pressure | Examination Feature | ap_lo | int |\n",
        "| Cholesterol | Examination Feature | cholesterol | 1: normal, 2: above normal, 3: well above normal |\n",
        "| Glucose | Examination Feature | gluc | 1: normal, 2: above normal, 3: well above normal |\n",
        "| Smoking | Subjective Feature | smoke | binary |\n",
        "| Alcohol intake | Subjective Feature | alco | binary |\n",
        "| Physical activity | Subjective Feature | active | binary |\n",
        "| Presence or absence of cardiovascular disease | Target Variable | cardio | binary |\n",
        "\n",
        "All of the dataset values were collected at the moment of medical examination."
      ],
      "metadata":{
        
      }
    },
    {
      "cell_type":"markdown",
      "source":[
        "Let's get to know our data by performing a preliminary data analysis.\n",
        "\n",
        "#  Part 1. Preliminary data analysis\n",
        "\n",
        "First, we will initialize the environment:"
      ],
      "metadata":{
        
      }
    },
    {
      "cell_type":"code",
      "source":[
        "# Import all required modules\n",
        "import pandas as pd\n",
        "import numpy as np\n",
        "\n",
        "# Disable warnings\n",
        "import warnings\n",
        "warnings.filterwarnings(\"ignore\")\n",
        "\n",
        "# Import plotting modules\n",
        "import seaborn as sns\n",
        "sns.set()\n",
        "import matplotlib\n",
        "import matplotlib.pyplot as plt\n",
        "import matplotlib.ticker\n",
        "%matplotlib inline"
      ],
      "execution_count":11,
      "outputs":[
        
      ],
      "metadata":{
        
      }
    },
    {
      "cell_type":"markdown",
      "source":[
        "You will use the `seaborn` library for visual analysis, so let's set that up too:"
      ],
      "metadata":{
        
      }
    },
    {
      "cell_type":"code",
      "source":[
        "# Tune the visual settings for figures in `seaborn`\n",
        "sns.set_context(\n",
        "    \"notebook\", \n",
        "    font_scale=1.5,       \n",
        "    rc={ \n",
        "        \"figure.figsize\": (20, 8), \n",
        "        \"axes.titlesize\": 18 \n",
        "    }\n",
        ")\n",
        "\n",
        "from matplotlib import rcParams\n",
        "rcParams['figure.figsize'] = 20, 8"
      ],
      "execution_count":15,
      "outputs":[
        
      ],
      "metadata":{
        
      }
    },
    {
      "cell_type":"code",
      "source":[
        
      ],
      "execution_count":15,
      "outputs":[
        
      ],
      "metadata":{
        
      }
    },
    {
      "cell_type":"markdown",
      "source":[
        "To make it simple, we will work only with the training part of the dataset:"
      ],
      "metadata":{
        
      }
    },
    {
      "cell_type":"code",
      "source":[
        "df = pd.read_csv('mlbootcamp5.csv')\n",
        "print('Dataset size: ', df.shape)\n",
        "df.head()"
      ],
      "execution_count":16,
      "outputs":[
        {
          "name":"stdout",
          "text":[
            "Dataset size:  (70000, 13)\n"
          ],
          "output_type":"stream"
        },
        {
          "data":{
            "text\/html":[
              "<div>\n",
              "\n",
              "<table border=\"1\">\n",
              "  <thead><tr style=\"text-align:right\"><th><\/th><th>id<\/th><th>age<\/th><th>gender<\/th><th>height<\/th><th>weight<\/th><th>ap_hi<\/th><th>ap_lo<\/th><th>cholesterol<\/th><th>gluc<\/th><th>smoke<\/th><th>alco<\/th><th>active<\/th><th>cardio<\/th><\/tr><\/thead>\n",
              "  <tbody><tr><td>0<\/td><td>0<\/td><td>18393<\/td><td>2<\/td><td>168<\/td><td>62.0<\/td><td>110<\/td><td>80<\/td><td>1<\/td><td>1<\/td><td>0<\/td><td>0<\/td><td>1<\/td><td>0<\/td><\/tr><tr><td>1<\/td><td>1<\/td><td>20228<\/td><td>1<\/td><td>156<\/td><td>85.0<\/td><td>140<\/td><td>90<\/td><td>3<\/td><td>1<\/td><td>0<\/td><td>0<\/td><td>1<\/td><td>1<\/td><\/tr><tr><td>2<\/td><td>2<\/td><td>18857<\/td><td>1<\/td><td>165<\/td><td>64.0<\/td><td>130<\/td><td>70<\/td><td>3<\/td><td>1<\/td><td>0<\/td><td>0<\/td><td>0<\/td><td>1<\/td><\/tr><tr><td>3<\/td><td>3<\/td><td>17623<\/td><td>2<\/td><td>169<\/td><td>82.0<\/td><td>150<\/td><td>100<\/td><td>1<\/td><td>1<\/td><td>0<\/td><td>0<\/td><td>1<\/td><td>1<\/td><\/tr><tr><td>4<\/td><td>4<\/td><td>17474<\/td><td>1<\/td><td>156<\/td><td>56.0<\/td><td>100<\/td><td>60<\/td><td>1<\/td><td>1<\/td><td>0<\/td><td>0<\/td><td>0<\/td><td>0<\/td><\/tr><\/tbody>\n",
              "<\/table>\n",
              "<\/div>"
            ]
          },
          "metadata":{
            
          },
          "output_type":"display_data"
        }
      ],
      "metadata":{
        
      }
    },
    {
      "cell_type":"markdown",
      "source":[
        "It would be instructive to peek into the values of our variables.\n",
        " \n",
        "Let's convert the data into *long* format and depict the value counts of the categorical features using [`factorplot()`](https:\/\/seaborn.pydata.org\/generated\/seaborn.factorplot.html)."
      ],
      "metadata":{
        
      }
    },
    {
      "cell_type":"code",
      "source":[
        "plt.figure(figsize=(10,5))\n",
        "df_uniques = pd.melt(frame=df, value_vars=['gender','cholesterol', \n",
        "                                           'gluc', 'smoke', 'alco', \n",
        "                                           'active', 'cardio'])\n",
        "df_uniques = pd.DataFrame(df_uniques.groupby(['variable', \n",
        "                                              'value'])['value'].count()).rename(columns={'value': 'count'}).reset_index()\n",
        "\n",
        "sns.catplot(x='variable', y='count', hue='value', \n",
        "               data=df_uniques, kind='bar', size=10)"
      ],
      "execution_count":22,
      "outputs":[
        {
          "data":{
            "text\/plain":[
              "<Figure size 720x360 with 0 Axes>"
            ],
            "image\/png":"[encoded data removed]"
          },
          "metadata":{
            "image\/png":{
              "width":0,
              "height":0
            }
          },
          "output_type":"display_data"
        }
      ],
      "metadata":{
        
      }
    },
    {
      "cell_type":"code",
      "source":[
        "df_uniques = pd.melt(frame=df, value_vars=['gender','cholesterol', \n",
        "                                           'gluc', 'smoke', 'alco', \n",
        "                                           'active', 'cardio'])\n",
        "pd.DataFrame(df_uniques.groupby(['variable', 'value'])['value'].count()).rename(columns={'value': 'count'}).reset_index()"
      ],
      "execution_count":18,
      "outputs":[
        {
          "data":{
            "text\/html":[
              "<div>\n",
              "\n",
              "<table border=\"1\">\n",
              "  <thead><tr style=\"text-align:right\"><th><\/th><th>variable<\/th><th>value<\/th><th>count<\/th><\/tr><\/thead>\n",
              "  <tbody><tr><td>0<\/td><td>active<\/td><td>0<\/td><td>13739<\/td><\/tr><tr><td>1<\/td><td>active<\/td><td>1<\/td><td>56261<\/td><\/tr><tr><td>2<\/td><td>alco<\/td><td>0<\/td><td>66236<\/td><\/tr><tr><td>3<\/td><td>alco<\/td><td>1<\/td><td>3764<\/td><\/tr><tr><td>4<\/td><td>cardio<\/td><td>0<\/td><td>35021<\/td><\/tr><tr><td>5<\/td><td>cardio<\/td><td>1<\/td><td>34979<\/td><\/tr><tr><td>6<\/td><td>cholesterol<\/td><td>1<\/td><td>52385<\/td><\/tr><tr><td>7<\/td><td>cholesterol<\/td><td>2<\/td><td>9549<\/td><\/tr><tr><td>8<\/td><td>cholesterol<\/td><td>3<\/td><td>8066<\/td><\/tr><tr><td>9<\/td><td>gender<\/td><td>1<\/td><td>45530<\/td><\/tr><tr><td>10<\/td><td>gender<\/td><td>2<\/td><td>24470<\/td><\/tr><tr><td>11<\/td><td>gluc<\/td><td>1<\/td><td>59479<\/td><\/tr><tr><td>12<\/td><td>gluc<\/td><td>2<\/td><td>5190<\/td><\/tr><tr><td>13<\/td><td>gluc<\/td><td>3<\/td><td>5331<\/td><\/tr><tr><td>14<\/td><td>smoke<\/td><td>0<\/td><td>63831<\/td><\/tr><tr><td>15<\/td><td>smoke<\/td><td>1<\/td><td>6169<\/td><\/tr><\/tbody>\n",
              "<\/table>\n",
              "<\/div>"
            ]
          },
          "metadata":{
            
          },
          "output_type":"display_data"
        }
      ],
      "metadata":{
        
      }
    },
    {
      "cell_type":"markdown",
      "source":[
        "We can see that the target classes are balanced. That's great!\n",
        "\n",
        "Let's split the dataset by target values. Can you already spot the most significant feature by just looking at the plot?"
      ],
      "metadata":{
        
      }
    },
    {
      "cell_type":"code",
      "source":[
        "df_uniques = pd.melt(frame=df, value_vars=['gender','cholesterol', \n",
        "                                           'gluc', 'smoke', 'alco', \n",
        "                                           'active'], \n",
        "                                           id_vars=['cardio'])\n",
        "\n",
        "df_uniques = pd.DataFrame(df_uniques.groupby(['variable', 'value', \n",
        "                                              'cardio'])['value'].count()).sort_index(level=[0, 1]).rename(columns={'value': 'count'}).reset_index()\n",
        "\n",
        "sns.factorplot(x='variable', y='count', hue='value', \n",
        "               col='cardio', data=df_uniques, kind='bar', size=9)"
      ],
      "execution_count":20,
      "outputs":[
        {
          "data":{
            "text\/plain":[
              "<seaborn.axisgrid.FacetGrid at 0x7f9e68dbd470>"
            ],
            "image\/png":"[encoded data removed]"
          },
          "metadata":{
            "image\/png":{
              "width":0,
              "height":0
            }
          },
          "output_type":"display_data"
        }
      ],
      "metadata":{
        
      }
    },
    {
      "cell_type":"markdown",
      "source":[
        "You can see that the distribution of cholesterol and glucose levels great differs by the value of the target variable. Is this a coincidence?\n",
        "\n",
        "Now, let's calculate some statistics for the feature unique values:"
      ],
      "metadata":{
        
      }
    },
    {
      "cell_type":"code",
      "source":[
        "for c in df.columns:\n",
        "    n = df[c].nunique()\n",
        "    print(c)\n",
        "    if n <= 3:\n",
        "        print(n, sorted(df[c].value_counts().to_dict().items()))\n",
        "    else:\n",
        "        print(n)\n",
        "    print(10 * '-')"
      ],
      "execution_count":23,
      "outputs":[
        {
          "name":"stdout",
          "text":[
            "id\n",
            "70000\n",
            "----------\n",
            "age\n",
            "8076\n",
            "----------\n",
            "gender\n",
            "2 [(1, 45530), (2, 24470)]\n",
            "----------\n",
            "height\n",
            "109\n",
            "----------\n",
            "weight\n",
            "287\n",
            "----------\n",
            "ap_hi\n",
            "153\n",
            "----------\n",
            "ap_lo\n",
            "157\n",
            "----------\n",
            "cholesterol\n",
            "3 [(1, 52385), (2, 9549), (3, 8066)]\n",
            "----------\n",
            "gluc\n",
            "3 [(1, 59479), (2, 5190), (3, 5331)]\n",
            "----------\n",
            "smoke\n",
            "2 [(0, 63831), (1, 6169)]\n",
            "----------\n",
            "alco\n",
            "2 [(0, 66236), (1, 3764)]\n",
            "----------\n",
            "active\n",
            "2 [(0, 13739), (1, 56261)]\n",
            "----------\n",
            "cardio\n",
            "2 [(0, 35021), (1, 34979)]\n",
            "----------\n"
          ],
          "output_type":"stream"
        }
      ],
      "metadata":{
        
      }
    },
    {
      "cell_type":"markdown",
      "source":[
        "In the end, we have:\n",
        "- 5 numerical features (excluding *id*);\n",
        "- 7 categorical features;\n",
        "- 70000 records in total."
      ],
      "metadata":{
        
      }
    },
    {
      "cell_type":"markdown",
      "source":[
        "## 1.1. Basic observations"
      ],
      "metadata":{
        
      }
    },
    {
      "cell_type":"markdown",
      "source":[
        "**Question 1.1. (1 point). How many men and women are present in this dataset? Values of the `gender` feature were not given (whether \"1\" stands for women or for men) – figure this out by looking analyzing height, making the assumption that men are taller on average. **\n",
        "1. **45530 women and 24470 men**\n",
        "2. 45530 men and 24470 women\n",
        "3. 45470 women and 24530 men\n",
        "4. 45470 men and 24530 women"
      ],
      "metadata":{
        
      }
    },
    {
      "cell_type":"code",
      "source":[
        "# Karina\n",
        "print(df[df['gender'] == 1]['height'].mean() > df[df['gender'] == 2]['height'].mean())"
      ],
      "execution_count":31,
      "outputs":[
        {
          "name":"stdout",
          "text":[
            "False\n"
          ],
          "output_type":"stream"
        }
      ],
      "metadata":{
        
      }
    },
    {
      "cell_type":"code",
      "source":[
        "df['gender'].value_counts()"
      ],
      "execution_count":97,
      "outputs":[
        {
          "data":{
            "text\/plain":[
              "1    45530\n",
              "2    24470\n",
              "Name: gender, dtype: int64"
            ]
          },
          "metadata":{
            
          },
          "output_type":"display_data"
        }
      ],
      "metadata":{
        
      }
    },
    {
      "cell_type":"code",
      "source":[
        "# Andrey\n",
        "sns.catplot(data=df, y='height', x='gender', kind='box')"
      ],
      "execution_count":33,
      "outputs":[
        {
          "data":{
            "text\/plain":[
              "<seaborn.axisgrid.FacetGrid at 0x7f9e65e5fbe0>"
            ],
            "image\/png":"[encoded data removed]"
          },
          "metadata":{
            "image\/png":{
              "width":0,
              "height":0
            }
          },
          "output_type":"display_data"
        }
      ],
      "metadata":{
        
      }
    },
    {
      "cell_type":"markdown",
      "source":[
        "````\n",
        "1 - female\n",
        "2 - male\n",
        "````"
      ],
      "metadata":{
        
      }
    },
    {
      "cell_type":"markdown",
      "source":[
        "**Question 1.2. (1 point). Which gender more often reports consuming alcohol - men or women?**\n",
        "1. women\n",
        "2. **men**"
      ],
      "metadata":{
        
      }
    },
    {
      "cell_type":"code",
      "source":[
        "sns.countplot(x='gender', data=df)"
      ],
      "execution_count":35,
      "outputs":[
        {
          "data":{
            "text\/plain":[
              "<matplotlib.axes._subplots.AxesSubplot at 0x7f9e64a5c390>"
            ],
            "image\/png":"[encoded data removed]"
          },
          "metadata":{
            "image\/png":{
              "width":0,
              "height":0
            }
          },
          "output_type":"display_data"
        }
      ],
      "metadata":{
        
      }
    },
    {
      "cell_type":"code",
      "source":[
        "sns.countplot(x='gender', hue='alco', data=df, palette='pastel')"
      ],
      "execution_count":48,
      "outputs":[
        {
          "data":{
            "text\/plain":[
              "<matplotlib.axes._subplots.AxesSubplot at 0x7f9e644364e0>"
            ],
            "image\/png":"[encoded data removed]"
          },
          "metadata":{
            "image\/png":{
              "width":0,
              "height":0
            }
          },
          "output_type":"display_data"
        }
      ],
      "metadata":{
        
      }
    },
    {
      "cell_type":"code",
      "source":[
        "pd.crosstab(df['gender'], df['alco'], normalize=0)"
      ],
      "execution_count":71,
      "outputs":[
        {
          "data":{
            "text\/html":[
              "<div>\n",
              "\n",
              "<table border=\"1\">\n",
              "  <thead><tr style=\"text-align:right\"><th>alco<\/th><th>0<\/th><th>1<\/th><\/tr><tr><th>gender<\/th><th><\/th><th><\/th><\/tr><\/thead>\n",
              "  <tbody><tr><td>1<\/td><td>0.974500<\/td><td>0.025500<\/td><\/tr><tr><td>2<\/td><td>0.893625<\/td><td>0.106375<\/td><\/tr><\/tbody>\n",
              "<\/table>\n",
              "<\/div>"
            ]
          },
          "metadata":{
            
          },
          "output_type":"display_data"
        }
      ],
      "metadata":{
        
      }
    },
    {
      "cell_type":"code",
      "source":[
        
      ],
      "execution_count":0,
      "outputs":[
        
      ],
      "metadata":{
        
      }
    },
    {
      "cell_type":"markdown",
      "source":[
        "**Question 1.3. (1 point). What is the difference between the percentages of smokers among men and women (rounded)?**\n",
        "1. 4\n",
        "2. 16\n",
        "3. **20**\n",
        "4. 24"
      ],
      "metadata":{
        
      }
    },
    {
      "cell_type":"code",
      "source":[
        "pd.crosstab(df['gender'], df['smoke'], normalize=0)"
      ],
      "execution_count":73,
      "outputs":[
        {
          "data":{
            "text\/html":[
              "<div>\n",
              "\n",
              "<table border=\"1\">\n",
              "  <thead><tr style=\"text-align:right\"><th>smoke<\/th><th>0<\/th><th>1<\/th><\/tr><tr><th>gender<\/th><th><\/th><th><\/th><\/tr><\/thead>\n",
              "  <tbody><tr><td>1<\/td><td>0.982144<\/td><td>0.017856<\/td><\/tr><tr><td>2<\/td><td>0.781120<\/td><td>0.218880<\/td><\/tr><\/tbody>\n",
              "<\/table>\n",
              "<\/div>"
            ]
          },
          "metadata":{
            
          },
          "output_type":"display_data"
        }
      ],
      "metadata":{
        
      }
    },
    {
      "cell_type":"markdown",
      "source":[
        "**Question 1.4. (1 point). What is the difference between median values of age for smokers and non-smokers (in months, rounded)? You'll need to figure out the units of feature `age` in this dataset.**\n",
        "\n",
        "1. 5\n",
        "2. 10\n",
        "3. 15\n",
        "4. **20**"
      ],
      "metadata":{
        
      }
    },
    {
      "cell_type":"code",
      "source":[
        "df['age'].median()\/365\n",
        "df['age_in_years'] = df['age']\/365\n",
        "df['age_in_month'] = df['age']\/30.5\n",
        "sns.catplot(data=df, x='smoke', y='age_in_years', kind='box')"
      ],
      "execution_count":95,
      "outputs":[
        {
          "data":{
            "text\/plain":[
              "<seaborn.axisgrid.FacetGrid at 0x7f9e61e00a20>"
            ],
            "image\/png":"[encoded data removed]"
          },
          "metadata":{
            "image\/png":{
              "width":0,
              "height":0
            }
          },
          "output_type":"display_data"
        }
      ],
      "metadata":{
        
      }
    },
    {
      "cell_type":"code",
      "source":[
        "df.groupby('smoke')['age_in_month'].agg('median').diff()"
      ],
      "execution_count":96,
      "outputs":[
        {
          "data":{
            "text\/plain":[
              "smoke\n",
              "0         NaN\n",
              "1   -19.57377\n",
              "Name: age_in_month, dtype: float64"
            ]
          },
          "metadata":{
            
          },
          "output_type":"display_data"
        }
      ],
      "metadata":{
        
      }
    },
    {
      "cell_type":"markdown",
      "source":[
        "## 1.2. Risk maps\n",
        "### Task:"
      ],
      "metadata":{
        
      }
    },
    {
      "cell_type":"markdown",
      "source":[
        "On the website for the European Society of Cardiology, a [SCORE scale](https:\/\/www.escardio.org\/Education\/Practice-Tools\/CVD-prevention-toolbox\/SCORE-Risk-Charts) is provided. It is used for calculating the risk of death from a cardiovascular decease in the next 10 years. Here it is:\n",
        "<img src=https:\/\/habrastorage.org\/webt\/ik\/gx\/hr\/ikgxhr3w1vzqihgitgrbdorfb14.png width=30%>\n",
        "\n",
        "Let's take a look at the upper-right rectangle, which shows a subset of smoking men aged from 60 to 65. (It's not obvious, but the values in the figure represent the upper bound).\n",
        "\n",
        "We see the value 9 in the lower-left corner of the rectangle and 47 in the upper-right. This means that, for people in this gender-age group whose systolic pressure is less than 120, the risk of a CVD is estimated to be 5 times lower than for those with the pressure in the interval [160,180).\n",
        "\n",
        "Let's calculate that same ratio using our data.\n",
        "\n",
        "Clarifications:\n",
        "- Calculate ``age_years`` feature – round age to the nearest number of years. For this task, select only the people of age 60 to 64, inclusive.\n",
        "- Cholesterol level categories differ between the figure and our dataset. The conversion for the ``cholesterol`` feature is as follows: 4 mmol\/l $\\rightarrow$ 1, 5-7 mmol\/l $\\rightarrow$ 2, 8 mmol\/l $\\rightarrow$ 3."
      ],
      "metadata":{
        
      }
    },
    {
      "cell_type":"code",
      "source":[
        "# You code here"
      ],
      "execution_count":0,
      "outputs":[
        
      ],
      "metadata":{
        
      }
    },
    {
      "cell_type":"markdown",
      "source":[
        "**Question 1.5. (2 points). Calculate the fraction of the people with CVD for the two segments described above. What is the ratio of these two fractions?**\n",
        "\n",
        "1. 1\n",
        "2. 2\n",
        "3. 3\n",
        "4. 4"
      ],
      "metadata":{
        
      }
    },
    {
      "cell_type":"markdown",
      "source":[
        "## 1.3. Analyzing BMI\n",
        "### Task:"
      ],
      "metadata":{
        
      }
    },
    {
      "cell_type":"markdown",
      "source":[
        "Create a new feature – BMI ([Body Mass Index](https:\/\/en.wikipedia.org\/wiki\/Body_mass_index)). To do this, divide weight in kilogramms by the square of the height in meters. Normal BMI values are said to be from 18.5 to 25. "
      ],
      "metadata":{
        
      }
    },
    {
      "cell_type":"code",
      "source":[
        "# You code here"
      ],
      "execution_count":0,
      "outputs":[
        
      ],
      "metadata":{
        
      }
    },
    {
      "cell_type":"markdown",
      "source":[
        "**Question 1.6. (2 points). Choose the correct statements:**\n",
        "\n",
        "1. Median BMI in the sample is within the range of normal BMI values.\n",
        "2. The BMI for women is on average higher than for men.\n",
        "3. Healthy people have, on average, a higher BMI than the people with CVD.\n",
        "4. For healthy, non-drinking men, BMI is closer to the norm than for healthy, non-drinking women"
      ],
      "metadata":{
        
      }
    },
    {
      "cell_type":"markdown",
      "source":[
        "## 1.4. Cleaning data"
      ],
      "metadata":{
        
      }
    },
    {
      "cell_type":"markdown",
      "source":[
        "### Task:\n",
        "We can see that the data is not perfect. It contains \"dirt\" and inaccuracies. We'll see this better as we visualize the data.\n",
        "\n",
        "Filter out the following patient segments (we consider these as erroneous data)\n",
        "\n",
        "- diastolic pressure is higher than systolic \n",
        "- height is strictly less than 2.5 percentile (Use `pd.Series.quantile` to compute this value. If you are not familiar with the function, please read the docs.)\n",
        "- height is strictly more than 97.5 percentile\n",
        "- weight is strictly less than 2.5 percentile\n",
        "- weight is strictly more than 97.5 percentile\n",
        "\n",
        "This is not everything that we can do to clean this data, but this is sufficient for now."
      ],
      "metadata":{
        
      }
    },
    {
      "cell_type":"code",
      "source":[
        "# You code here"
      ],
      "execution_count":0,
      "outputs":[
        
      ],
      "metadata":{
        
      }
    },
    {
      "cell_type":"markdown",
      "source":[
        "**Question 1.7. (2 points). What percent of the original data (rounded) did we throw away?**\n",
        "\n",
        "1. 8\n",
        "2. 9\n",
        "3. 10\n",
        "4. 11"
      ],
      "metadata":{
        
      }
    },
    {
      "cell_type":"markdown",
      "source":[
        "# Part 2. Visual data analysis\n",
        "\n",
        "## 2.1. Correlation matrix visualization\n",
        "\n",
        "To understand the features better, you can create a matrix of the correlation coefficients between the features. Use the initial dataset (non-filtered).\n",
        "\n",
        "### Task:\n",
        "\n",
        "Plot a correlation matrix using [`heatmap()`](http:\/\/seaborn.pydata.org\/generated\/seaborn.heatmap.html). You can create the matrix using the standard `pandas` tools with the default parameters."
      ],
      "metadata":{
        
      }
    },
    {
      "cell_type":"code",
      "source":[
        "# You code here"
      ],
      "execution_count":0,
      "outputs":[
        
      ],
      "metadata":{
        
      }
    },
    {
      "cell_type":"markdown",
      "source":[
        "** Question 2.1. (1 point).** Which pair of features has the strongest Pearson's correlation with the *gender* feature?\n",
        "\n",
        "1. Cardio, Cholesterol\n",
        "2. Height, Smoke\n",
        "3. Smoke, Alco\n",
        "4. Height, Weight"
      ],
      "metadata":{
        
      }
    },
    {
      "cell_type":"markdown",
      "source":[
        "## 2.2. Height distribution of men and women\n",
        "\n",
        "From our exploration of the unique values earlier, we know that the gender is encoded by the values *1* and *2*. Although you do not know the mapping of these values to gender, you can figure that out graphically by looking at the mean values of height and weight for each value of the *gender* feature.\n",
        "\n",
        "### Task:\n",
        "\n",
        "Create a violin plot for the height and gender using [`violinplot()`](https:\/\/seaborn.pydata.org\/generated\/seaborn.violinplot.html). Use the parameters:\n",
        "- `hue` to split by gender;\n",
        "- `scale` to evaluate the number of records for each gender.\n",
        "\n",
        "In order for the plot to render correctly, you need to convert your `DataFrame` to *long* format using the `melt()` function from `pandas`. Here is [an example](https:\/\/stackoverflow.com\/a\/41575149\/3338479) of this for your reference."
      ],
      "metadata":{
        
      }
    },
    {
      "cell_type":"code",
      "source":[
        "# You code here"
      ],
      "execution_count":0,
      "outputs":[
        
      ],
      "metadata":{
        
      }
    },
    {
      "cell_type":"markdown",
      "source":[
        "**Question 2.2. (1 point).** Which pair of features has the strongest Spearman correlation?\n",
        "\n",
        "1. Height, Weight\n",
        "2. Age, Weight\n",
        "3. Cholesterol, Gluc\n",
        "4. Cardio, Cholesterol\n",
        "5. Ap_hi, Ap_lo\n",
        "6. Smoke, Alco"
      ],
      "metadata":{
        
      }
    },
    {
      "cell_type":"markdown",
      "source":[
        "## 2.3. Rank correlation\n",
        "\n",
        "In most cases, *the Pearson coefficient of linear correlation* is more than enough to discover patterns in data. \n",
        "But let's go a little further and calculate a [rank correlation](https:\/\/en.wikipedia.org\/wiki\/Rank_correlation). It will help us to identify such feature pairs in which the lower rank in the variational series of one feature always precedes the higher rank in the another one (and we have the opposite in the case of negative correlation).\n",
        "\n",
        "### Task:\n",
        "\n",
        "Calculate and plot a correlation matrix using the [Spearman's rank correlation coefficient](https:\/\/en.wikipedia.org\/wiki\/Spearman%27s_rank_correlation_coefficient)."
      ],
      "metadata":{
        
      }
    },
    {
      "cell_type":"code",
      "source":[
        "# You code here"
      ],
      "execution_count":0,
      "outputs":[
        
      ],
      "metadata":{
        
      }
    },
    {
      "cell_type":"markdown",
      "source":[
        "**Question 2.3. (1 point).** Why do these features have strong rank correlation?\n",
        "\n",
        "1. Inaccuracies in the data (data acquisition errors).\n",
        "2. Relation is wrong, these features should not be related.\n",
        "3. Nature of the data."
      ],
      "metadata":{
        
      }
    },
    {
      "cell_type":"markdown",
      "source":[
        "## 2.4. Age\n",
        "\n",
        "Previously, we calculated the age of the respondents in years at the moment of examination."
      ],
      "metadata":{
        
      }
    },
    {
      "cell_type":"markdown",
      "source":[
        "### Task:\n",
        "\n",
        "Create a *count plot* using [`countplot()`](http:\/\/seaborn.pydata.org\/generated\/seaborn.countplot.html) with the age on the *X* axis and the number of people on the *Y* axis. Your resulting plot should have two columns for each age, corresponding to the number of people for each *cardio* class of that age."
      ],
      "metadata":{
        
      }
    },
    {
      "cell_type":"code",
      "source":[
        "# You code here"
      ],
      "execution_count":0,
      "outputs":[
        
      ],
      "metadata":{
        
      }
    },
    {
      "cell_type":"markdown",
      "source":[
        "**Question 2.4. (1 point).** What is the smallest age at which the number of people with CVD outnumber the number of people without CVD?\n",
        "\n",
        "1. 44\n",
        "2. 55\n",
        "3. 64\n",
        "4. 70"
      ],
      "metadata":{
        
      }
    }
  ],
  "metadata":{
    
  },
  "nbformat":4,
  "nbformat_minor":0
}